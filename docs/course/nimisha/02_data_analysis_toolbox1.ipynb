{
  "cells": [
    {
      "cell_type": "markdown",
      "metadata": {
        "id": "a7lwOewdeA5I"
      },
      "source": [
        "# Data Analysis Toolbox Session 1\n",
        "## Made by Gururaj Deshpande\n"
      ]
    },
    {
      "cell_type": "markdown",
      "metadata": {
        "id": "gVJ9HFdleA5Q"
      },
      "source": [
        "Welcome to the first week of Machine Learning. We hope you are doing well. This first week, we will introduce some core concepts essential to performing well in this class. This tutorial will cover NumPy and it's broadcasting functionality. We will also cover some basic Python concepts that will be useful for the rest of the course."
      ]
    },
    {
      "cell_type": "markdown",
      "metadata": {
        "id": "0sV6fqq7eA5R"
      },
      "source": [
        "# Who is Guru?"
      ]
    },
    {
      "cell_type": "markdown",
      "metadata": {
        "id": "oUwCjWKJeA5S"
      },
      "source": [
        "[This is him](https://mahdi-roozbahani.github.io/CS46417641-spring2023/profiles/gd.png)"
      ]
    },
    {
      "cell_type": "markdown",
      "metadata": {
        "id": "eMNZEaqkLcQM"
      },
      "source": [
        "## Linear Algebra Operations\n",
        "### [Markdown cheatsheet](https://github.com/adam-p/markdown-here/wiki/Markdown-Cheatsheet)"
      ]
    },
    {
      "cell_type": "markdown",
      "metadata": {
        "id": "-1M1h_UqeA5e"
      },
      "source": [
        "## What is NumPy?"
      ]
    },
    {
      "cell_type": "markdown",
      "metadata": {
        "id": "EKqjM7ameA5f"
      },
      "source": [
        "NumPy is a Python library for working with arrays. It is the core library for scientific computing in Python. It provides a high-performance multidimensional array object, and tools for working with these arrays. If you are already familiar with MATLAB, you might find this tutorial useful to get started with NumPy since NumPy uses the same concepts as MATLAB."
      ]
    },
    {
      "cell_type": "code",
      "execution_count": 2,
      "metadata": {
        "id": "dDMpxvj3LcQN"
      },
      "outputs": [],
      "source": [
        "import numpy as np\n",
        "import numpy.random as nprd\n",
        "import numpy.linalg as npla"
      ]
    },
    {
      "cell_type": "markdown",
      "metadata": {
        "id": "MamAK6zheA5f"
      },
      "source": [
        "**Having issues importing NumPy?** Make sure you have Anaconda installed (guide found on EdStem) and run the following command in your terminal: `conda install numpy`"
      ]
    },
    {
      "cell_type": "markdown",
      "metadata": {
        "id": "TqjvU8bqLcQm"
      },
      "source": [
        "#### [Python Lists vs. Numpy Arrays](https://webcourses.ucf.edu/courses/1249560/pages/python-lists-vs-numpy-arrays-what-is-the-difference)"
      ]
    },
    {
      "cell_type": "code",
      "execution_count": 3,
      "metadata": {
        "colab": {
          "base_uri": "https://localhost:8080/"
        },
        "id": "9B_aEVQjLcQn",
        "outputId": "4969c06d-c0d0-4a56-8366-d0b187f57aad"
      },
      "outputs": [
        {
          "output_type": "execute_result",
          "data": {
            "text/plain": [
              "([1, 2, 3], array([1, 2, 3]))"
            ]
          },
          "metadata": {},
          "execution_count": 3
        }
      ],
      "source": [
        "python_list = [1,2,3]\n",
        "python_nparray = np.array([1, 2, 3])\n",
        "python_list, python_nparray"
      ]
    },
    {
      "cell_type": "markdown",
      "metadata": {
        "id": "rYeY0TGTLcQu"
      },
      "source": [
        "## Vectors"
      ]
    },
    {
      "cell_type": "markdown",
      "metadata": {
        "id": "LE6a89jMLcQ0"
      },
      "source": [
        "#### Vector creation"
      ]
    },
    {
      "cell_type": "code",
      "execution_count": 4,
      "metadata": {
        "colab": {
          "base_uri": "https://localhost:8080/"
        },
        "id": "Ep6XoOhsLcQ2",
        "outputId": "7b61a4d2-cdd4-4070-bd8c-5fcd20579ef3"
      },
      "outputs": [
        {
          "output_type": "execute_result",
          "data": {
            "text/plain": [
              "(array([1, 2, 3]), array([2, 4, 6]))"
            ]
          },
          "metadata": {},
          "execution_count": 4
        }
      ],
      "source": [
        "x = np.array([1, 2, 3])\n",
        "y = np.array([2, 4, 6])\n",
        "x, y"
      ]
    },
    {
      "cell_type": "markdown",
      "metadata": {
        "id": "FFinuXWaLcQ9"
      },
      "source": [
        "#### Vector operation"
      ]
    },
    {
      "cell_type": "code",
      "execution_count": 5,
      "metadata": {
        "colab": {
          "base_uri": "https://localhost:8080/"
        },
        "id": "8K4irfkgLcQ-",
        "outputId": "6f2640a6-bdf9-4e51-aac4-b24bb7770ccb"
      },
      "outputs": [
        {
          "output_type": "execute_result",
          "data": {
            "text/plain": [
              "np.int64(6)"
            ]
          },
          "metadata": {},
          "execution_count": 5
        }
      ],
      "source": [
        "np.sum(x)"
      ]
    },
    {
      "cell_type": "code",
      "execution_count": 6,
      "metadata": {
        "colab": {
          "base_uri": "https://localhost:8080/"
        },
        "id": "HIXEhYEeLcRR",
        "outputId": "567e34b4-7651-464f-ac76-daad56841e7d"
      },
      "outputs": [
        {
          "output_type": "execute_result",
          "data": {
            "text/plain": [
              "np.float64(2.0)"
            ]
          },
          "metadata": {},
          "execution_count": 6
        }
      ],
      "source": [
        "np.mean(x)"
      ]
    },
    {
      "cell_type": "code",
      "execution_count": 7,
      "metadata": {
        "colab": {
          "base_uri": "https://localhost:8080/"
        },
        "id": "Vz5Xg7FaLcRU",
        "outputId": "9b98077c-bf57-4940-98ba-a5859b578596"
      },
      "outputs": [
        {
          "output_type": "execute_result",
          "data": {
            "text/plain": [
              "np.float64(0.816496580927726)"
            ]
          },
          "metadata": {},
          "execution_count": 7
        }
      ],
      "source": [
        "np.std(x)"
      ]
    },
    {
      "cell_type": "markdown",
      "metadata": {
        "id": "uM_wa03ieA5f"
      },
      "source": [
        "## Why NumPy?"
      ]
    },
    {
      "cell_type": "markdown",
      "metadata": {
        "id": "JEfWM0oXeA5f"
      },
      "source": [
        "NumPy is much much faster! Wanna see?"
      ]
    },
    {
      "cell_type": "code",
      "execution_count": 8,
      "metadata": {
        "id": "-n0HDy6HeA5g"
      },
      "outputs": [],
      "source": [
        "# Creating a list of 1000 zeros in NumPy and Python\n",
        "numpy_array = np.zeros(1_000) # Yes! You can use underscores with large numbers in Python 3.6+ to make them more readable\n",
        "python_array = [0] * 1_000 # This is fancy syntax in Python. You could have used a for loop as well"
      ]
    },
    {
      "cell_type": "markdown",
      "metadata": {
        "id": "J-KS8NW4eA5g"
      },
      "source": [
        "We do the same operation of adding 1 to each element in the array 1,000 times and get the time taken over multiple trials. We will use the `%%timeit` magic function to get the time taken for each trial. The `%%timeit` magic function will run the code multiple times and give us the average time taken."
      ]
    },
    {
      "cell_type": "code",
      "execution_count": 9,
      "metadata": {
        "colab": {
          "base_uri": "https://localhost:8080/"
        },
        "id": "QSh07B_feA5g",
        "outputId": "af79c20e-ab16-45c2-839d-b2f881ab9859"
      },
      "outputs": [
        {
          "output_type": "stream",
          "name": "stdout",
          "text": [
            "1.45 µs ± 250 ns per loop (mean ± std. dev. of 7 runs, 1000000 loops each)\n"
          ]
        }
      ],
      "source": [
        "%timeit numpy_array + 1"
      ]
    },
    {
      "cell_type": "code",
      "execution_count": 10,
      "metadata": {
        "colab": {
          "base_uri": "https://localhost:8080/"
        },
        "id": "1tNuhtY0eA5h",
        "outputId": "955b3138-b578-4180-eefb-34fd9f6a0ae8"
      },
      "outputs": [
        {
          "output_type": "stream",
          "name": "stdout",
          "text": [
            "13.1 µs ± 2.23 µs per loop (mean ± std. dev. of 7 runs, 100000 loops each)\n"
          ]
        }
      ],
      "source": [
        "%timeit [x + 1 for x in python_array]"
      ]
    },
    {
      "cell_type": "markdown",
      "metadata": {
        "id": "TlV9DBz9eA5h"
      },
      "source": [
        "We see that NumPy takes the 👑 here! NumPy is around x10 times faster. **What if we increase the size of the array?**"
      ]
    },
    {
      "cell_type": "code",
      "execution_count": 11,
      "metadata": {
        "id": "MjxaSiQGeA5i"
      },
      "outputs": [],
      "source": [
        "numpy_array = np.zeros(1_000_000)\n",
        "python_array = [0] * 1_000_000"
      ]
    },
    {
      "cell_type": "code",
      "execution_count": 12,
      "metadata": {
        "colab": {
          "base_uri": "https://localhost:8080/"
        },
        "id": "KoiKWcYLeA5i",
        "outputId": "ff92904f-bc8f-4726-ab9e-c21bdf6d9927"
      },
      "outputs": [
        {
          "output_type": "stream",
          "name": "stdout",
          "text": [
            "248 µs ± 17 µs per loop (mean ± std. dev. of 7 runs, 1000 loops each)\n"
          ]
        }
      ],
      "source": [
        "%timeit numpy_array + 1"
      ]
    },
    {
      "cell_type": "code",
      "execution_count": 13,
      "metadata": {
        "colab": {
          "base_uri": "https://localhost:8080/"
        },
        "id": "-b02H8AweA5i",
        "outputId": "c44c07d3-15b0-4f68-cfaa-0bcbedf1cb60"
      },
      "outputs": [
        {
          "output_type": "stream",
          "name": "stdout",
          "text": [
            "12.9 ms ± 1.2 ms per loop (mean ± std. dev. of 7 runs, 100 loops each)\n"
          ]
        }
      ],
      "source": [
        "%timeit [x + 1 for x in python_array]"
      ]
    },
    {
      "cell_type": "markdown",
      "metadata": {
        "id": "30jDxmgLeA5j"
      },
      "source": [
        "But how is NumPy so fast 🤯! Python is taking a lot of time to do the same thing. This is because NumPy is written in C and C++ and Python is interpreted. NumPy is a wrapper around C and C++ code. What you see here with `numpy_array + 1` actually is processed in the C language and all the loops happen at a much lower level compared to Python, which results in speedups. This means that NumPy is much faster than Python for numerical computations and also has similar rules to C. NumPy also parallelizes vector operations to make them faster! <br>\n",
        "\n",
        "An example -- **all NumPy arrays MUST be of the same type!** You cannot mix integers and floats in the same array exactly the same as how C and C++ define their own arrays! We'll discuss this in a bit."
      ]
    },
    {
      "cell_type": "markdown",
      "metadata": {
        "id": "9Zatc9IweA5j"
      },
      "source": [
        "## NumPy Basics"
      ]
    },
    {
      "cell_type": "markdown",
      "metadata": {
        "id": "zfSwNO91eA5j"
      },
      "source": [
        "### Creating NumPy Arrays"
      ]
    },
    {
      "cell_type": "markdown",
      "metadata": {
        "id": "j8jbqr5KeA5j"
      },
      "source": [
        "Creating arrays are pretty easy in NumPy. You need to use the `np.array()` function and pass in a list of values. You can also pass in a list of lists to create a 2D array."
      ]
    },
    {
      "cell_type": "code",
      "execution_count": 14,
      "metadata": {
        "colab": {
          "base_uri": "https://localhost:8080/"
        },
        "id": "Y5srZQE6eA5k",
        "outputId": "2d39e948-85cc-49a6-9358-84af3b7d3d5b"
      },
      "outputs": [
        {
          "output_type": "execute_result",
          "data": {
            "text/plain": [
              "array([1, 2, 3, 4, 5])"
            ]
          },
          "metadata": {},
          "execution_count": 14
        }
      ],
      "source": [
        "arr = np.array([1, 2, 3, 4, 5])\n",
        "arr"
      ]
    },
    {
      "cell_type": "code",
      "execution_count": 15,
      "metadata": {
        "colab": {
          "base_uri": "https://localhost:8080/"
        },
        "id": "8_EuKna0eA5k",
        "outputId": "b3785429-761d-403e-c36b-4d533bdeddd9"
      },
      "outputs": [
        {
          "output_type": "execute_result",
          "data": {
            "text/plain": [
              "array([[ 1,  2,  3,  4,  5],\n",
              "       [ 6,  7,  8,  9, 10]])"
            ]
          },
          "metadata": {},
          "execution_count": 15
        }
      ],
      "source": [
        "arr_2D = np.array([[1, 2, 3, 4, 5], [6, 7, 8, 9, 10]])\n",
        "arr_2D"
      ]
    },
    {
      "cell_type": "markdown",
      "metadata": {
        "id": "RD368TA_eA5k"
      },
      "source": [
        "These \"arrays\" are actually called `ndarrays` which stands for n-dimensional arrays (but I like to call them NxD arrays because it's more intuitive). You can also create arrays of zeros, ones, and random numbers. You can also create arrays of a certain shape with random numbers. Let's do those!"
      ]
    },
    {
      "cell_type": "code",
      "execution_count": 16,
      "metadata": {
        "colab": {
          "base_uri": "https://localhost:8080/"
        },
        "id": "jlXL5e6CeA5k",
        "outputId": "c3829df9-6ded-46c7-d08f-7e5378f46a2d"
      },
      "outputs": [
        {
          "output_type": "stream",
          "name": "stdout",
          "text": [
            "Arr Zeros: [0. 0. 0. 0. 0. 0. 0. 0. 0. 0.]\n",
            "Arr Ones: [1. 1. 1. 1. 1. 1. 1. 1. 1. 1.]\n",
            "Arr Fives: [5 5 5 5 5 5 5 5 5 5]\n",
            "Arr Random: [0.14827156 0.13786553 0.18775857 0.55536892 0.28714394 0.1465113\n",
            " 0.67502634 0.10737574 0.59837749 0.231583  ]\n"
          ]
        }
      ],
      "source": [
        "# Create an array of 10 zeros using the np.zeros() function\n",
        "arr = np.zeros(10)\n",
        "print(f\"Arr Zeros: {arr}\")\n",
        "\n",
        "# Create an array of 10 ones using the np.ones() function\n",
        "arr = np.ones(10)\n",
        "print(f\"Arr Ones: {arr}\")\n",
        "\n",
        "# Create an array of 10 fives using the np.full() function\n",
        "arr = np.full(10, 5)\n",
        "print(f\"Arr Fives: {arr}\")\n",
        "\n",
        "# Create an array of 10 random numbers using the np.random.random() function\n",
        "arr = np.random.random(10)\n",
        "print(f\"Arr Random: {arr}\")"
      ]
    },
    {
      "cell_type": "markdown",
      "metadata": {
        "id": "41b-iffMeA5l"
      },
      "source": [
        "We know that all these NumPy Arrays are actually written in C. So, how do we set the data type of these arrays? We can use the dtype parameter in any NumPy function that creates an array like `np.array()`, `np.zeros`, etc. Let's see how we can do that!"
      ]
    },
    {
      "cell_type": "code",
      "execution_count": 17,
      "metadata": {
        "colab": {
          "base_uri": "https://localhost:8080/"
        },
        "id": "F2pivjRoeA5l",
        "outputId": "ff72b368-a0f9-424d-e45c-80b15f0a3219"
      },
      "outputs": [
        {
          "output_type": "stream",
          "name": "stdout",
          "text": [
            "Data Type of Arr: int64\n",
            "Data Type of Arr: float64\n",
            "Data Type of Arr: object\n"
          ]
        }
      ],
      "source": [
        "# Creating a array of numbers in NumPy\n",
        "arr = np.array([1, 3, 5])\n",
        "print(f\"Data Type of Arr: {arr.dtype}\") # Allows us to see the Data Type of the array\n",
        "\n",
        "# Add 3.0 instead 3 results in the Data Type becoming a float\n",
        "arr = np.array([1, 3.0, 5])\n",
        "print(f\"Data Type of Arr: {arr.dtype}\")\n",
        "\n",
        "# We can also set the Data Type of the array if want to\n",
        "arr = np.array([1, 3, 5], dtype=object) # The object type is the most general type. It can hold any type of data, but isn't very efficient\n",
        "print(f\"Data Type of Arr: {arr.dtype}\")"
      ]
    },
    {
      "cell_type": "markdown",
      "metadata": {
        "id": "GnqEiF9AeA5x"
      },
      "source": [
        "**💡 QUIZ YOURSELF 💡** <br>\n",
        "What would be the output of the following code? <br>\n",
        "```python\n",
        "import numpy as np\n",
        "arr = np.full(1_000_000, 13, dtype=float) + 1\n",
        "print(arr)\n",
        "```"
      ]
    },
    {
      "cell_type": "markdown",
      "metadata": {
        "id": "uIYTahfReA5x"
      },
      "source": [
        "## A Review on Numpy Matrix Multiplications\n",
        "\n",
        "Numpy allows you to perform standard matrix operations like multiplication much more efficiently. However, Numpy's power doesn't only encompass speed, but also flexibility. Let's first review what you can do with standard matrices.\n",
        "\n",
        "### Element-Wise Multiplication\n",
        "\n",
        "To understand this method, suppose we have two 2x2 matrices, arr1 and arr2."
      ]
    },
    {
      "cell_type": "code",
      "execution_count": 18,
      "metadata": {
        "colab": {
          "base_uri": "https://localhost:8080/"
        },
        "id": "mUHS2Dg_eA5y",
        "outputId": "a382c8d8-589c-4104-fa42-22abbb080798"
      },
      "outputs": [
        {
          "output_type": "stream",
          "name": "stdout",
          "text": [
            "ARR1:\n",
            " [[3 1]\n",
            " [2 4]] \n",
            "\n",
            "ARR2:\n",
            " [[4 7]\n",
            " [5 8]]\n"
          ]
        }
      ],
      "source": [
        "arr1 = np.array([[3, 1],[2, 4]])\n",
        "arr2 = np.array([[4, 7],[5, 8]])\n",
        "print(\"ARR1:\\n\",arr1,\"\\n\\nARR2:\\n\",arr2)"
      ]
    },
    {
      "cell_type": "markdown",
      "metadata": {
        "id": "skb0pBfSeA5y"
      },
      "source": [
        "Element wise multiplication allows us to take two matrices and use the \" * \" operation to create a new matrix as such:"
      ]
    },
    {
      "cell_type": "code",
      "execution_count": 19,
      "metadata": {
        "id": "9TJqblt6eA5y",
        "outputId": "0fc28510-4902-4912-d3ae-abeacc5270f9",
        "colab": {
          "base_uri": "https://localhost:8080/"
        }
      },
      "outputs": [
        {
          "output_type": "stream",
          "name": "stdout",
          "text": [
            "ARR3:\n",
            " [[12  7]\n",
            " [10 32]]\n"
          ]
        }
      ],
      "source": [
        "arr3 = arr1 * arr2\n",
        "print(\"ARR3:\\n\",arr3)"
      ]
    },
    {
      "cell_type": "markdown",
      "metadata": {
        "id": "fx4xBK1JeA5y"
      },
      "source": [
        "Note that the element at position (0,0) for arr1 was 3 and was 4 for arr2. The value at the corresponding position of their result matrix is the product of the two elements. You repeat this for every element of the matrices to get the final matrix. That is why it is called \"element-wise\" matrix multiplication.\n",
        "\n",
        "This form of multiplication can **only** be performed on matrices of the same shape and size. In other words, if one matrix has a shape of M x N, the second matrix must have the shape M x N, and their result will be M x N."
      ]
    },
    {
      "cell_type": "markdown",
      "metadata": {
        "id": "I4UiRU3peA5z"
      },
      "source": [
        "### Getting parts of an array (array slicing)"
      ]
    },
    {
      "cell_type": "markdown",
      "metadata": {
        "id": "mOXii_nPeA5z"
      },
      "source": [
        "Array slicing is a very powerful tool in NumPy. It allows us to get parts of an array using the indices of the array. We can also use it to change parts of an array. Let's see how we can do that!"
      ]
    },
    {
      "cell_type": "code",
      "execution_count": 20,
      "metadata": {
        "colab": {
          "base_uri": "https://localhost:8080/"
        },
        "id": "Ex3fQm0oeA5z",
        "outputId": "18845694-cbe2-4067-f82a-6ff440529a25"
      },
      "outputs": [
        {
          "output_type": "execute_result",
          "data": {
            "text/plain": [
              "array([1, 2, 3, 4, 5])"
            ]
          },
          "metadata": {},
          "execution_count": 20
        }
      ],
      "source": [
        "arr = np.array([1, 2, 3, 4, 5, 6, 7, 8, 9, 10])\n",
        "arr[0:5] # Get the first 5 elements. Stop index or end index (5 here) is not inclusive"
      ]
    },
    {
      "cell_type": "code",
      "execution_count": 21,
      "metadata": {
        "colab": {
          "base_uri": "https://localhost:8080/"
        },
        "id": "Blt9inkbeA5z",
        "outputId": "dbddf7f6-28d9-4997-d7c6-564e287c7db1"
      },
      "outputs": [
        {
          "output_type": "execute_result",
          "data": {
            "text/plain": [
              "array([ 6,  7,  8,  9, 10])"
            ]
          },
          "metadata": {},
          "execution_count": 21
        }
      ],
      "source": [
        "arr = np.array([1, 2, 3, 4, 5, 6, 7, 8, 9, 10])\n",
        "arr[5:] # Get all elements after the 5th element (get elements from 5 to end; start index is inclusive)"
      ]
    },
    {
      "cell_type": "code",
      "execution_count": 22,
      "metadata": {
        "colab": {
          "base_uri": "https://localhost:8080/"
        },
        "id": "02iF6q9QeA5z",
        "outputId": "51a653cf-7a47-4702-8008-1ea62748761b"
      },
      "outputs": [
        {
          "output_type": "execute_result",
          "data": {
            "text/plain": [
              "array([100, 100, 100, 100, 100,   6,   7,   8,   9,  10])"
            ]
          },
          "metadata": {},
          "execution_count": 22
        }
      ],
      "source": [
        "arr = np.array([1, 2, 3, 4, 5, 6, 7, 8, 9, 10])\n",
        "arr[0:5] = 100 # Change the first 5 elements to 100\n",
        "arr"
      ]
    },
    {
      "cell_type": "markdown",
      "metadata": {
        "id": "NUIzf2i1eA5z"
      },
      "source": [
        "Slicing in NumPy works exactly the same as it does in Python. You can use the same syntax to get a subset of an array. To review Python slicing, please take a look at the [Python tutorial](https://www.geeksforgeeks.org/python-list-slicing/) on GeeksforGeeks."
      ]
    },
    {
      "cell_type": "markdown",
      "metadata": {
        "id": "79MZsAhxeA50"
      },
      "source": [
        "#### Slicing 2D Arrays"
      ]
    },
    {
      "cell_type": "markdown",
      "metadata": {
        "id": "kdx9Cf2ieA50"
      },
      "source": [
        "Although a bit daunting, slicing 2D arrays is almost exactly the same as with 1D arrays. However, we have 2 dimensions we can slice over. To seperate the slicing for the rows vs. the columns, we seperate each slice with a comma. An example syntax is shown below:\n",
        "<center>arr[row_slice, column_slice]</center>\n",
        "Additional examples are shown below."
      ]
    },
    {
      "cell_type": "code",
      "execution_count": 23,
      "metadata": {
        "colab": {
          "base_uri": "https://localhost:8080/"
        },
        "id": "OgkVTbT_eA50",
        "outputId": "e65d286b-3ece-4fa4-c8ef-513c8dd038e3"
      },
      "outputs": [
        {
          "output_type": "execute_result",
          "data": {
            "text/plain": [
              "array([[ 1,  2,  3,  4,  5],\n",
              "       [ 6,  7,  8,  9, 10]])"
            ]
          },
          "metadata": {},
          "execution_count": 23
        }
      ],
      "source": [
        "arr = np.array([[1, 2, 3, 4, 5], [6, 7, 8, 9, 10]])\n",
        "arr # See the 2D array"
      ]
    },
    {
      "cell_type": "code",
      "execution_count": 24,
      "metadata": {
        "colab": {
          "base_uri": "https://localhost:8080/"
        },
        "id": "o4D1Yq1GeA50",
        "outputId": "2e7923f1-2854-49fd-87ea-f7ed446f3fa9"
      },
      "outputs": [
        {
          "output_type": "execute_result",
          "data": {
            "text/plain": [
              "array([1, 2, 3, 4, 5])"
            ]
          },
          "metadata": {},
          "execution_count": 24
        }
      ],
      "source": [
        "arr[0, :] # Get the first row"
      ]
    },
    {
      "cell_type": "markdown",
      "metadata": {
        "id": "mhkl6HTSeA50"
      },
      "source": [
        "**Why is there a `:` in the column section?** It's because we want all the columns.\n",
        "\n",
        "In general, the `:` translates to \"all\". We would read `arr[0, :]` as \"first row, all columns\". Using `:` by itself is the same as using `0:end` as shown below"
      ]
    },
    {
      "cell_type": "code",
      "execution_count": 25,
      "metadata": {
        "id": "JCntgg15eA50",
        "outputId": "7fe359bc-3cd2-49d0-93a0-4d0a285f9f53",
        "colab": {
          "base_uri": "https://localhost:8080/"
        }
      },
      "outputs": [
        {
          "output_type": "execute_result",
          "data": {
            "text/plain": [
              "array([1, 2, 3, 4, 5])"
            ]
          },
          "metadata": {},
          "execution_count": 25
        }
      ],
      "source": [
        "arr[0, 0:5] # Get the first row"
      ]
    },
    {
      "cell_type": "markdown",
      "metadata": {
        "id": "Yz7OFRQaeA51"
      },
      "source": [
        "Here are some other examples!"
      ]
    },
    {
      "cell_type": "code",
      "execution_count": 26,
      "metadata": {
        "id": "E88prrRxeA51",
        "outputId": "ccee080e-947c-48d7-b500-21a9a8397ef2",
        "colab": {
          "base_uri": "https://localhost:8080/"
        }
      },
      "outputs": [
        {
          "output_type": "execute_result",
          "data": {
            "text/plain": [
              "array([1, 6])"
            ]
          },
          "metadata": {},
          "execution_count": 26
        }
      ],
      "source": [
        "arr[:, 0] # Get the first column -- literal translation: all rows, first column"
      ]
    },
    {
      "cell_type": "code",
      "execution_count": 27,
      "metadata": {
        "id": "NGT_liaZeA51",
        "outputId": "fcae6a97-07ea-41f7-8c18-fa06828c328f",
        "colab": {
          "base_uri": "https://localhost:8080/"
        }
      },
      "outputs": [
        {
          "output_type": "execute_result",
          "data": {
            "text/plain": [
              "np.int64(1)"
            ]
          },
          "metadata": {},
          "execution_count": 27
        }
      ],
      "source": [
        "arr[0, 0] # Get the element at the first row and the first column"
      ]
    },
    {
      "cell_type": "code",
      "execution_count": 28,
      "metadata": {
        "id": "KdYHJzD_eA51",
        "outputId": "c784b95f-5b55-443b-feea-ae527bb6c674",
        "colab": {
          "base_uri": "https://localhost:8080/"
        }
      },
      "outputs": [
        {
          "output_type": "execute_result",
          "data": {
            "text/plain": [
              "array([[1, 2, 3],\n",
              "       [6, 7, 8]])"
            ]
          },
          "metadata": {},
          "execution_count": 28
        }
      ],
      "source": [
        "arr[:, :3] # Get the first 3 columns -- literal translation: all rows, first 3 columns"
      ]
    },
    {
      "cell_type": "markdown",
      "metadata": {
        "id": "79wuaZnqeA52"
      },
      "source": [
        "Again, `:3` is the same as `0:3`"
      ]
    },
    {
      "cell_type": "code",
      "execution_count": 29,
      "metadata": {
        "colab": {
          "base_uri": "https://localhost:8080/"
        },
        "id": "IYujypyVeA52",
        "outputId": "33ec57c8-3382-489a-93eb-239f87dff80c"
      },
      "outputs": [
        {
          "output_type": "execute_result",
          "data": {
            "text/plain": [
              "array([ 5, 10])"
            ]
          },
          "metadata": {},
          "execution_count": 29
        }
      ],
      "source": [
        "arr[:, -1] # Get the last column -- literal translation: all rows, last column"
      ]
    },
    {
      "cell_type": "markdown",
      "metadata": {
        "id": "rhnhe09PeA52"
      },
      "source": [
        "**💡 QUIZ YOURSELF 💡** <br>\n",
        "What would be the output of the following code? <br>\n",
        "```python\n",
        "import numpy as np\n",
        "arr = np.array([[1, 2, 3, 4, 5], [6, 7, 8, 9, 10]])\n",
        "print(arr[:-1, :])\n",
        "```"
      ]
    },
    {
      "cell_type": "markdown",
      "metadata": {
        "id": "W73S_nJNeA52"
      },
      "source": [
        "### Getting the shape of an array"
      ]
    },
    {
      "cell_type": "markdown",
      "metadata": {
        "id": "s4eETLd3eA52"
      },
      "source": [
        "To get the shape of an array, we can use the `shape` attribute of the array. NumPy likes to return the shape of arrays in the following format: <br>\n",
        "<center>(# sets (if applicable), # rows, # columns)</center>"
      ]
    },
    {
      "cell_type": "code",
      "execution_count": 30,
      "metadata": {
        "colab": {
          "base_uri": "https://localhost:8080/"
        },
        "id": "0GUGY5PjeA52",
        "outputId": "38798667-8bbe-454d-fea9-edcb13533a9d"
      },
      "outputs": [
        {
          "output_type": "stream",
          "name": "stdout",
          "text": [
            "Shape of Arr: (3,)\n",
            "Type of arr.shape is: <class 'tuple'>\n"
          ]
        }
      ],
      "source": [
        "arr = np.array([1, 3, 5], dtype=np.int64) # The int64 type is a 64-bit integer\n",
        "print(f\"Shape of Arr: {arr.shape}\") # Allows us to see the Shape of the array\n",
        "print(f\"Type of arr.shape is: {type(arr.shape)}\") # The type of np.shape is a tuple"
      ]
    },
    {
      "cell_type": "markdown",
      "metadata": {
        "id": "wtQPb2xceA52"
      },
      "source": [
        "We get back a tuple representing the size of the array. It may seem confusing at first about why a list of numbers (which can be thought of as a 1D vector) has shape (3,), but NumPy does this on purpose to distinguish vectors from NumPy arrays. By default, vectors are defined as row vectors. A traditional row vector has shape (1, n) where n is the number of elements, and here, NumPy has chosen to make it (n,). This is a convention that you will see in many places, so it's important to be aware of it. Python NumPy is row-major by default.\n",
        "\n",
        "We can easily change the shape of an array using the `reshape()` function. Let's see how we can do that!"
      ]
    },
    {
      "cell_type": "code",
      "execution_count": 31,
      "metadata": {
        "id": "L1GlWmc9eA53",
        "outputId": "f9fd7ac1-e21e-45b8-942c-35577da0e564",
        "colab": {
          "base_uri": "https://localhost:8080/"
        }
      },
      "outputs": [
        {
          "output_type": "stream",
          "name": "stdout",
          "text": [
            "Shape of Arr: (3,)\n",
            "Shape of Arr: (1, 3)\n",
            "Shape of Arr: (3, 1)\n"
          ]
        }
      ],
      "source": [
        "arr = np.array([1, 3, 5])\n",
        "print(f\"Shape of Arr: {arr.shape}\")\n",
        "\n",
        "arr = arr.reshape(1, 3) # Reshaping the array to be 1 row and 3 columns\n",
        "print(f\"Shape of Arr: {arr.shape}\")\n",
        "arr = arr.reshape(3, 1) # Reshaping the array to be 3 rows and 1 column\n",
        "print(f\"Shape of Arr: {arr.shape}\")"
      ]
    },
    {
      "cell_type": "markdown",
      "metadata": {
        "id": "rpY3fkkyeA53"
      },
      "source": [
        "We were able to use the `reshape()` function to change the shape of the array, but we had to hardcode the number of rows and columns we wanted in order to create a column vector from this (3,) shape array. What if there was an easier way to do this? There is! We can use the `-1` parameter in the `reshape()` function to tell NumPy to figure out the number of rows or columns for us. Let's see how we can do that!"
      ]
    },
    {
      "cell_type": "code",
      "execution_count": 32,
      "metadata": {
        "id": "XbpvbNyaeA53",
        "outputId": "51089abf-deac-4d74-eb87-4d9f9a06d57b",
        "colab": {
          "base_uri": "https://localhost:8080/"
        }
      },
      "outputs": [
        {
          "output_type": "stream",
          "name": "stdout",
          "text": [
            "Shape of Arr: (3,)\n",
            "Shape of Arr: (3, 1)\n",
            "Shape of Arr: (1, 3)\n"
          ]
        }
      ],
      "source": [
        "arr = np.array([1, 3, 5])\n",
        "print(f\"Shape of Arr: {arr.shape}\")\n",
        "\n",
        "arr = arr.reshape(-1, 1) # Reshaping the array to be 3 rows and 1 column -- the -1 tells NumPy to figure out the number of rows\n",
        "print(f\"Shape of Arr: {arr.shape}\")\n",
        "arr = arr.reshape(1, -1) # Reshaping the array to be 1 row and 3 columns -- the -1 tells NumPy to figure out the number of columns\n",
        "print(f\"Shape of Arr: {arr.shape}\")"
      ]
    },
    {
      "cell_type": "markdown",
      "metadata": {
        "id": "cy6MBAVEeA53"
      },
      "source": [
        "### Changing the Dimension of an Array (1D to 2D, 2D to 3D, etc.)"
      ]
    },
    {
      "cell_type": "markdown",
      "metadata": {
        "id": "14R-EBhQeA53"
      },
      "source": [
        "In addition to using the `reshape()` function, we can also use the `np.newaxis` parameter to change the dimension of an array. Let's see how we can do that!"
      ]
    },
    {
      "cell_type": "code",
      "execution_count": 33,
      "metadata": {
        "colab": {
          "base_uri": "https://localhost:8080/"
        },
        "id": "R8hfcxBreA53",
        "outputId": "cb4c8847-ed84-4264-be5a-a04992af52e1"
      },
      "outputs": [
        {
          "output_type": "stream",
          "name": "stdout",
          "text": [
            "Shape of Arr2: (3, 1)\n"
          ]
        },
        {
          "output_type": "execute_result",
          "data": {
            "text/plain": [
              "array([[1],\n",
              "       [3],\n",
              "       [5]])"
            ]
          },
          "metadata": {},
          "execution_count": 33
        }
      ],
      "source": [
        "arr1 = np.array([1, 3, 5])\n",
        "arr2 = arr1[:, np.newaxis] # Reshaping the array to be 3 rows and 1 column\n",
        "print(f\"Shape of Arr2: {arr2.shape}\")\n",
        "arr2"
      ]
    },
    {
      "cell_type": "markdown",
      "metadata": {
        "id": "VXmvKZbYeA54"
      },
      "source": [
        "`np.newaxis` works as we slice the array. We put `np.newaxis` on the axis we want to expand. In this case, we want to expand the rows, so we put `np.newaxis` on the rows index. In the final result, the dimension that had `np.newaxis` becomes 1."
      ]
    },
    {
      "cell_type": "code",
      "execution_count": 34,
      "metadata": {
        "id": "ztt8A9-LeA54",
        "outputId": "71b10fd9-875e-433b-c1d5-4abb274b1906",
        "colab": {
          "base_uri": "https://localhost:8080/"
        }
      },
      "outputs": [
        {
          "output_type": "stream",
          "name": "stdout",
          "text": [
            "Shape of Arr2: (1, 3)\n"
          ]
        },
        {
          "output_type": "execute_result",
          "data": {
            "text/plain": [
              "array([[1, 3, 5]])"
            ]
          },
          "metadata": {},
          "execution_count": 34
        }
      ],
      "source": [
        "arr1 = np.array([1, 3, 5])\n",
        "arr2 = arr1[np.newaxis, :] # Reshaping the array to be 1 row and 3 columns\n",
        "print(f\"Shape of Arr2: {arr2.shape}\")\n",
        "arr2"
      ]
    },
    {
      "cell_type": "code",
      "execution_count": 35,
      "metadata": {
        "id": "XWnBcr_zeA54",
        "outputId": "0b6b32b1-4c39-42a7-c0c8-55b5f8cdc710",
        "colab": {
          "base_uri": "https://localhost:8080/"
        }
      },
      "outputs": [
        {
          "output_type": "stream",
          "name": "stdout",
          "text": [
            "Shape of Arr2: (1, 1, 3)\n"
          ]
        },
        {
          "output_type": "execute_result",
          "data": {
            "text/plain": [
              "array([[[1, 3, 5]]])"
            ]
          },
          "metadata": {},
          "execution_count": 35
        }
      ],
      "source": [
        "arr1 = np.array([1, 3, 5])\n",
        "arr2 = arr1[np.newaxis, np.newaxis, :] # Reshaping the array to be 1 set, 1 row, 3 columns\n",
        "print(f\"Shape of Arr2: {arr2.shape}\")\n",
        "arr2"
      ]
    },
    {
      "cell_type": "markdown",
      "metadata": {
        "id": "fUlzrtmSeA54"
      },
      "source": [
        "For 2D arrays, it becomes a bit more complicated. Let's see how it works with a 2D array."
      ]
    },
    {
      "cell_type": "code",
      "execution_count": 36,
      "metadata": {
        "colab": {
          "base_uri": "https://localhost:8080/"
        },
        "id": "BVLiF5b3eA54",
        "outputId": "59aff4cf-ac9e-4269-92d5-eb58f14e342b"
      },
      "outputs": [
        {
          "output_type": "stream",
          "name": "stdout",
          "text": [
            "Shape of Arr2: (1, 2, 5)\n"
          ]
        },
        {
          "output_type": "execute_result",
          "data": {
            "text/plain": [
              "array([[[ 1,  2,  3,  4,  5],\n",
              "        [ 6,  7,  8,  9, 10]]])"
            ]
          },
          "metadata": {},
          "execution_count": 36
        }
      ],
      "source": [
        "arr1 = np.array([[1, 2, 3, 4, 5], [6, 7, 8, 9, 10]])\n",
        "arr2 = arr1[np.newaxis, :, :] # Reshaping the array to be 1 set, 2 rows, and 5 columns\n",
        "print(f\"Shape of Arr2: {arr2.shape}\")\n",
        "arr2"
      ]
    },
    {
      "cell_type": "markdown",
      "metadata": {
        "id": "SIDr3xJ1eA55"
      },
      "source": [
        "Here, we have two `:`s. The first `:` means we want all the rows. The second `:` means we want all the columns. So, we are getting all the rows and all the columns. But how does NumPy know if we wanted the rows to be there vs the columns? NumPy uses the order of the initial array and the order of the `:` to place the dimensions correctly. So, on the first `:`, we replace this with value 2 (since was the number of rows in the original array). On the second `:`, we replace this with value 5 (since was the number of columns in the original array)."
      ]
    },
    {
      "cell_type": "code",
      "execution_count": 37,
      "metadata": {
        "id": "rkuJyTYLeA55",
        "outputId": "bce85a31-eb5a-4211-b298-f44a2d65100a",
        "colab": {
          "base_uri": "https://localhost:8080/"
        }
      },
      "outputs": [
        {
          "output_type": "stream",
          "name": "stdout",
          "text": [
            "Shape of Arr2: (2, 1, 5)\n"
          ]
        },
        {
          "output_type": "execute_result",
          "data": {
            "text/plain": [
              "array([[[ 1,  2,  3,  4,  5]],\n",
              "\n",
              "       [[ 6,  7,  8,  9, 10]]])"
            ]
          },
          "metadata": {},
          "execution_count": 37
        }
      ],
      "source": [
        "arr1 = np.array([[1, 2, 3, 4, 5], [6, 7, 8, 9, 10]])\n",
        "arr2 = arr1[:, np.newaxis, :] # Reshaping the array to be 2 sets, 1 row, and 5 columns\n",
        "print(f\"Shape of Arr2: {arr2.shape}\")\n",
        "arr2"
      ]
    },
    {
      "cell_type": "markdown",
      "metadata": {
        "id": "Bx6GPVLQeA55"
      },
      "source": [
        "**💡 QUIZ YOURSELF 💡** <br>\n",
        "What is the shape of `arr2`? <br>\n",
        "\n",
        "```python\n",
        "import numpy as np\n",
        "arr1 = np.random.rand(7, 1, 5) # Create a (7, 1, 5) 3D array of random numbers\n",
        "arr2 = arr1[:, :, :, np.newaxis]\n",
        "```"
      ]
    },
    {
      "cell_type": "markdown",
      "metadata": {
        "id": "qckU8SSueA55"
      },
      "source": [
        "## NumPy Broadcasting"
      ]
    },
    {
      "cell_type": "code",
      "execution_count": 38,
      "metadata": {
        "colab": {
          "base_uri": "https://localhost:8080/"
        },
        "id": "FVBSNncyMg2m",
        "outputId": "c39411a1-6424-4a9b-c3bb-1be2eadf11d4"
      },
      "outputs": [
        {
          "output_type": "stream",
          "name": "stdout",
          "text": [
            "x:  [0 1 2 3]\n",
            "x shape:  (4,)\n"
          ]
        }
      ],
      "source": [
        "x = np.arange(4)\n",
        "\n",
        "print('x: ', x)\n",
        "print('x shape: ', x.shape)"
      ]
    },
    {
      "cell_type": "code",
      "execution_count": 39,
      "metadata": {
        "colab": {
          "base_uri": "https://localhost:8080/"
        },
        "id": "uAHZucjhNqox",
        "outputId": "345543b1-c0c2-4b9c-e137-668602ff52d2"
      },
      "outputs": [
        {
          "output_type": "stream",
          "name": "stdout",
          "text": [
            "y:  [0 1 2 3 4]\n",
            "y shape:  (5,)\n"
          ]
        }
      ],
      "source": [
        "y = np.arange(5)\n",
        "print('y: ', y)\n",
        "print('y shape: ', y.shape)"
      ]
    },
    {
      "cell_type": "markdown",
      "metadata": {
        "id": "vxOu5iCZPJiJ"
      },
      "source": [
        "#### Incorrect Broadcasting"
      ]
    },
    {
      "cell_type": "code",
      "execution_count": 40,
      "metadata": {
        "id": "jghWbelGMhar"
      },
      "outputs": [],
      "source": [
        "# Uncomment to see what happens!\n",
        "# print(x*y)"
      ]
    },
    {
      "cell_type": "markdown",
      "metadata": {
        "id": "05KAJLaEPNw7"
      },
      "source": [
        "#### Correct Broadcasting"
      ]
    },
    {
      "cell_type": "code",
      "execution_count": 41,
      "metadata": {
        "colab": {
          "base_uri": "https://localhost:8080/"
        },
        "id": "dVbTQUyYNywy",
        "outputId": "3a429486-2508-492f-e61c-3c961f9a1f5b"
      },
      "outputs": [
        {
          "output_type": "stream",
          "name": "stdout",
          "text": [
            "[[ 0  0  0  0  0]\n",
            " [ 0  1  2  3  4]\n",
            " [ 0  2  4  6  8]\n",
            " [ 0  3  6  9 12]]\n"
          ]
        }
      ],
      "source": [
        "x_prime = x.reshape(4,1)\n",
        "print(x_prime*y)"
      ]
    },
    {
      "cell_type": "markdown",
      "metadata": {
        "id": "0Zxl--yCPjjV"
      },
      "source": [
        "#### For Loop vs. Numpy Array Operations\n",
        "\n"
      ]
    },
    {
      "cell_type": "code",
      "execution_count": 66,
      "metadata": {
        "id": "U1JU7AHpQ9kr",
        "outputId": "44314756-ce2e-4def-b7df-7e93888e5a63",
        "colab": {
          "base_uri": "https://localhost:8080/"
        }
      },
      "outputs": [
        {
          "output_type": "stream",
          "name": "stdout",
          "text": [
            "x:  [   0    1    2 ... 9997 9998 9999]\n",
            "\n",
            "y:  [ 0  1  2  3  4  5  6  7  8  9 10 11 12 13 14 15 16 17 18 19 20 21 22 23\n",
            " 24 25 26 27 28 29 30 31 32 33 34 35 36 37 38 39 40 41 42 43 44 45 46 47\n",
            " 48 49]\n"
          ]
        }
      ],
      "source": [
        "import time\n",
        "x = np.arange(10000)\n",
        "y = np.arange(50)\n",
        "print('x: ',x)\n",
        "print()\n",
        "print('y: ',y)"
      ]
    },
    {
      "cell_type": "code",
      "execution_count": 67,
      "metadata": {
        "id": "ujh22lZ8Potx",
        "outputId": "561eade4-d35e-4314-8379-110753defc9a",
        "colab": {
          "base_uri": "https://localhost:8080/"
        }
      },
      "outputs": [
        {
          "output_type": "stream",
          "name": "stdout",
          "text": [
            "[[     0      0      0 ...      0      0      0]\n",
            " [     0      1      2 ...     47     48     49]\n",
            " [     0      2      4 ...     94     96     98]\n",
            " ...\n",
            " [     0   9997  19994 ... 469859 479856 489853]\n",
            " [     0   9998  19996 ... 469906 479904 489902]\n",
            " [     0   9999  19998 ... 469953 479952 489951]]\n",
            "\n",
            "Duration with For loop:  0.2158048152923584\n"
          ]
        }
      ],
      "source": [
        "start_loop = time.time()\n",
        "z = np.zeros((len(x),len(y)))\n",
        "for i in range(len(x)):\n",
        "    for j in range(len(y)):\n",
        "        z[i,j] =  x[i]*y[j]\n",
        "\n",
        "end_loop = time.time()\n",
        "loop_time = end_loop - start_loop\n",
        "print(z.astype(int))\n",
        "print()\n",
        "print('Duration with For loop: ',loop_time)"
      ]
    },
    {
      "cell_type": "code",
      "execution_count": 68,
      "metadata": {
        "id": "BLVD2WtWQqa_",
        "outputId": "9c07db4b-2ba5-47d1-9428-aef217754853",
        "colab": {
          "base_uri": "https://localhost:8080/"
        }
      },
      "outputs": [
        {
          "output_type": "stream",
          "name": "stdout",
          "text": [
            "(10000, 1)\n",
            "(50,)\n",
            "(10000, 50)\n",
            "[[     0      0      0 ...      0      0      0]\n",
            " [     0      1      2 ...     47     48     49]\n",
            " [     0      2      4 ...     94     96     98]\n",
            " ...\n",
            " [     0   9997  19994 ... 469859 479856 489853]\n",
            " [     0   9998  19996 ... 469906 479904 489902]\n",
            " [     0   9999  19998 ... 469953 479952 489951]]\n",
            "\n",
            "Duration with Numpy Operations:  0.0015234947204589844\n"
          ]
        }
      ],
      "source": [
        "start_np = time.time()\n",
        "x_prime = x.reshape(len(x),1)\n",
        "z = x_prime*y # Element-wise multiplication\n",
        "print(x_prime.shape)\n",
        "print(y.shape)\n",
        "print(z.shape)\n",
        "end_np = time.time()\n",
        "np_time = end_np - start_np\n",
        "print(z)\n",
        "print()\n",
        "print('Duration with Numpy Operations: ',np_time)"
      ]
    },
    {
      "cell_type": "code",
      "execution_count": 69,
      "metadata": {
        "id": "5lb6V4TGeA57",
        "outputId": "9e24ee66-7220-4fa5-8a82-028754a2945a",
        "colab": {
          "base_uri": "https://localhost:8080/"
        }
      },
      "outputs": [
        {
          "output_type": "stream",
          "name": "stdout",
          "text": [
            "Using Broadcasting with Numpy Operations is 141.6511737089202 times faster!!!!\n"
          ]
        }
      ],
      "source": [
        "speed_up = loop_time/np_time\n",
        "print(\"Using Broadcasting with Numpy Operations is\",speed_up,\"times faster!!!!\")"
      ]
    },
    {
      "cell_type": "markdown",
      "metadata": {
        "id": "QsjrWWGzeA57"
      },
      "source": [
        "NumPy Broadcasting is one of the most fundamental concepts that makes it so fast and powerful and used all around the globe. Broadcasting applies to element-wise arithmetic operations can occur between 2 NumPy arrays (or a NumPy array and a scalar). Broadcasting is a set of rules that NumPy follows when performing arithmetic operations on arrays of different shapes. The algorithm for broadcasting is as follows:\n",
        "1. Line up the shapes of both of the arrays we are considering for the broadcast aligning the last dimension of each array on the right hand side.\n",
        "2. Working from the right to the left, compare the values of the current dimension in question. If the values are equal or if one of the values is 1, then the array (currently) can be broadcastable. Continue to the next dimension to the left until you reach the left most dimension. The end result of the broadcast is the larger of the two values.\n",
        "1. If all the dimensions are broadcastable, then the arrays can be broadcasted. If not, then the arrays cannot be broadcasted.\n",
        "   \n",
        "Let's do an example to see how broadcasting works on paper. Let's say we have the following arrays:\n",
        "\n",
        "```python\n",
        "import numpy as np\n",
        "\n",
        "arr1 = np.array([[1, 2, 3], [4, 5, 6]]) # Shape: (2, 3)\n",
        "arr2 = np.array([1, 2, 3]) # Shape: (3,) --> broadcasting rules treat (3,) as (1, 3)\n",
        "arr3 = arr2 * arr1 # Element-wise multiplication\n",
        "```\n",
        "The question is, **can we multiply `arr1` and `arr2`?** For this, we need to consult the broadcasting rules since we are doing an arithmetic operation on 2 NumPy Arrays.\n",
        "\n",
        "1. Line up the shapes of both of the arrays we are considering for the broadcast aligning the last dimension of each array on the right hand side.\n",
        "\n",
        "        arr1 (2d array): 2 x 3\n",
        "        arr2 (1d array): 1 x 3\n",
        "\n",
        "2. Working from the right to the left, compare the values of the current dimension in question. If the values are equal or if one of the values is 1, then the array (currently) can be broadcastable. Continue to the next dimension to the left until you reach the left most dimension.\n",
        "   \n",
        "        Iteration 1: Arr 1: 3, Arr 2: 3. Both are equal. Continue to next dimension.\n",
        "        Iteration 2: Arr 1: 2, Arr 2: 1. Arr 2 is 1. Arr 2's value is 1. Continue to next dimension.\n",
        "\n",
        "For this example, we see that the arrays are broadcastable. We can multiply `arr1` and `arr2` together. Let's see what happens when we try to add `arr1` and `arr2` together. The end result of the operation is a 2 x 3 array. Let's see if we're right!"
      ]
    },
    {
      "cell_type": "code",
      "execution_count": 46,
      "metadata": {
        "id": "YPzM09SneA57",
        "outputId": "0f3f6c39-a2db-4f9f-8290-e94f63e016c3",
        "colab": {
          "base_uri": "https://localhost:8080/"
        }
      },
      "outputs": [
        {
          "output_type": "execute_result",
          "data": {
            "text/plain": [
              "array([[ 1,  4,  9],\n",
              "       [ 4, 10, 18]])"
            ]
          },
          "metadata": {},
          "execution_count": 46
        }
      ],
      "source": [
        "arr1 = np.array([[1, 2, 3], [4, 5, 6]]) # Shape: (2, 3)\n",
        "arr2 = np.array([1, 2, 3]) # Shape: (3,)\n",
        "arr3 = arr2 * arr1\n",
        "arr3"
      ]
    },
    {
      "cell_type": "markdown",
      "metadata": {
        "id": "6X5j2CGeeA58"
      },
      "source": [
        "What NumPy did is multiply `arr2` to each row of `arr1` resulting in a 2 x 3 array."
      ]
    },
    {
      "cell_type": "markdown",
      "metadata": {
        "id": "YUNIg638eA58"
      },
      "source": [
        "You may or may not have noticed this, but we actually used NumPy broadcasting in the previous sections too! Let's revisit this piece of code.\n",
        "\n",
        "```python\n",
        "numpy_array = np.zeros(1_000_000)\n",
        "numpy_array = numpy_array + 1\n",
        "```\n",
        "\n",
        "Here, we are broadcasting a NumPy array with a scalar. Let's see how the broadcasting rules apply for this case.\n",
        "\n",
        "1. Line up the shapes of both of the arrays we are considering for the broadcast aligning the last dimension of each array on the right hand side.\n",
        "\n",
        "        numpy_array (1d array): 1 x 1_000_000\n",
        "        scalar of 1 (scalar):   1 x 1\n",
        "\n",
        "2. Working from the right to the left, compare the values of the current dimension in question. If the values are equal or if one of the values is 1, then the array (currently) can be broadcastable. Continue to the next dimension to the left until you reach the left most dimension.\n",
        "   \n",
        "        Iteration 1: numpy_array: 1_000_000, scalar: 1. scalar value is 1. Continue to next dimension.\n",
        "        Iteration 2: numpy_array: 1, scalar: 1. scalar value is 1. Continue to next dimension.\n",
        "\n",
        "We see that the arrays are broadcastable. We can add `numpy_array` and the scalar together. The end result of the operation is a 1 x 1_000_000 array.\n",
        "        "
      ]
    },
    {
      "cell_type": "markdown",
      "metadata": {
        "id": "22XUHrABeA58"
      },
      "source": [
        "### Broadcasting with 3D Matrices\n",
        "\n",
        "Now, getting back to broadcasting, you might be thinking that it is easy enough to broadcast a scalar over a vector or matrix and maybe a vector over a 2d matrix, but how can someone broadcast a 2d matrix over another 2d matrix? That is where we take everything we've learned here so far and combine them together!"
      ]
    },
    {
      "cell_type": "code",
      "execution_count": 73,
      "metadata": {
        "id": "qw53ewrpeA58",
        "outputId": "734d8c4b-81cb-4bb3-85d0-eab47f7f978b",
        "colab": {
          "base_uri": "https://localhost:8080/"
        }
      },
      "outputs": [
        {
          "output_type": "stream",
          "name": "stdout",
          "text": [
            "(2, 2)\n",
            "Original matrices:\n",
            "\n",
            "ARR1:\n",
            " [[2 1]\n",
            " [3 0]] \n",
            "\n",
            "ARR2:\n",
            " [[9 2]\n",
            " [4 5]]\n"
          ]
        }
      ],
      "source": [
        "'''Next example: broadcasting one matrix onto another matrix'''\n",
        "arr1 = np.array([[2,1],[3, 0]])\n",
        "arr2 = np.array([[9,2],[4, 5]])\n",
        "\n",
        "print(\"Original matrices:\\n\\nARR1:\\n\",arr1,\"\\n\\nARR2:\\n\",arr2)"
      ]
    },
    {
      "cell_type": "markdown",
      "metadata": {
        "id": "nzoWh5cmeA58"
      },
      "source": [
        "Now, we will use np.newaxis to help numpy view our arr1 for what it is: a collection of vectors."
      ]
    },
    {
      "cell_type": "code",
      "execution_count": 48,
      "metadata": {
        "id": "um4awaIDeA58",
        "outputId": "1d239b28-a045-4874-d48d-4ac37b32bed2",
        "colab": {
          "base_uri": "https://localhost:8080/"
        }
      },
      "outputs": [
        {
          "output_type": "stream",
          "name": "stdout",
          "text": [
            "_ARR1:\n",
            " [[[2]\n",
            "  [1]]\n",
            "\n",
            " [[3]\n",
            "  [0]]]\n"
          ]
        }
      ],
      "source": [
        "_arr1 = arr1[:,:,np.newaxis]\n",
        "print(\"_ARR1:\\n\",_arr1)"
      ]
    },
    {
      "cell_type": "markdown",
      "metadata": {
        "id": "MjZRKYY0eA58"
      },
      "source": [
        "This np.newaxis call turns our arr1 into a matrix with the shape 2x2x1, meaning it is a matrix that is made of two 2x1 matrices. Now, when we perform element-wise multiplication, it will broadcast each vector accross our arr2, creating a 3d matrix of size 2x2x2. See the code below:"
      ]
    },
    {
      "cell_type": "code",
      "execution_count": 78,
      "metadata": {
        "id": "8nmknmTReA59",
        "outputId": "a78efe0f-3dfe-4791-d180-5e058c616527",
        "colab": {
          "base_uri": "https://localhost:8080/"
        }
      },
      "outputs": [
        {
          "output_type": "stream",
          "name": "stdout",
          "text": [
            "_ARR1:\n",
            " [[[2]\n",
            "  [1]]\n",
            "\n",
            " [[3]\n",
            "  [0]]] \n",
            "\n",
            "ARR2:\n",
            " [[9 2]\n",
            " [4 5]]\n",
            "\n",
            "ARR3:\n",
            " [[[18  4]\n",
            "  [ 4  5]]\n",
            "\n",
            " [[27  6]\n",
            "  [ 0  0]]]\n"
          ]
        }
      ],
      "source": [
        "print(\"_ARR1:\\n\",_arr1,\"\\n\\nARR2:\\n\",arr2)\n",
        "arr3 = _arr1 * arr2\n",
        "print(\"\\nARR3:\\n\",arr3)\n",
        "\n",
        "arr1 = np.random.rand(8, 1, 6, 1) # Create an (8, 1, 6, 1) 4D array of random numbers\n",
        "arr2 = np.random.rand(7, 1, 5) # Create a (7, 1, 5) 3D array of random numbers\n",
        "arr3 = arr1 + arr2 # Add the two arrays togethe"
      ]
    },
    {
      "cell_type": "markdown",
      "metadata": {
        "id": "zyk2bSPYeA59"
      },
      "source": [
        "**💡 QUIZ YOURSELF 💡** <br>\n",
        "Would we get a broadcasting error from the code below? <br>\n",
        "```python\n",
        "import numpy as np\n",
        "arr1 = np.random.rand(8, 1, 6, 1) # Create an (8, 1, 6, 1) 4D array of random numbers\n",
        "arr2 = np.random.rand(7, 1, 5) # Create a (7, 1, 5) 3D array of random numbers\n",
        "arr3 = arr1 + arr2 # Add the two arrays together\n",
        "\n",
        "arr4 = np.random.rand(3)\n",
        "arr5 = np.random.rand(4)\n",
        "arr6 = arr4 + arr5\n",
        "```"
      ]
    },
    {
      "cell_type": "markdown",
      "metadata": {
        "id": "AmUoLAhQeA59"
      },
      "source": [
        "✨ **CHALLENGE** ✨ <br>\n",
        "Create a Python function that accepts two tuples representing the shapes of 2 NumPy arrays and returns whether or not the arrays can be broadcasted together. The function should return a boolean value. The function is outlined below."
      ]
    },
    {
      "cell_type": "code",
      "execution_count": 50,
      "metadata": {
        "id": "ajaFUKHWeA59"
      },
      "outputs": [],
      "source": [
        "def can_broadcast(shape1, shape2):\n",
        "    \"\"\"Returns whether or not the two arrays can be broadcasted together.\n",
        "\n",
        "    Keyword arguments:\n",
        "    shape1 -- tuple representing the shape of the first array\n",
        "    shape2 -- tuple representing the shape of the second array\n",
        "\n",
        "    Returns:\n",
        "    boolean -- True if the arrays can be broadcasted together, False otherwise\n",
        "    \"\"\"\n",
        "    # Your code here\n",
        "    return None"
      ]
    },
    {
      "cell_type": "markdown",
      "metadata": {
        "id": "0F5oaB5TeA59"
      },
      "source": [
        "### Operations within a NumPy Array"
      ]
    },
    {
      "cell_type": "markdown",
      "metadata": {
        "id": "aacHS4C7eA59"
      },
      "source": [
        "In addition to the addition, subtraction, multiplication, and division operations, there are another of other operations within the array that are extremely useful like `sum()`, `mean()`, `max()`, `min()`, `std()`, `var()`, `argmax()`, `argmin()`, and `sort()`. These operations are extremely useful when you want to perform a specific operation on an entire array. Let's see how we can use these operations!"
      ]
    },
    {
      "cell_type": "code",
      "execution_count": 51,
      "metadata": {
        "id": "ZIHa20TceA59",
        "outputId": "e545fb15-ac70-469c-caa9-f17e1e357c62",
        "colab": {
          "base_uri": "https://localhost:8080/"
        }
      },
      "outputs": [
        {
          "output_type": "stream",
          "name": "stdout",
          "text": [
            "Total: 21\n",
            "Mean: 3.5\n",
            "Max: 6\n",
            "Min: 1\n",
            "Standard Deviation: 1.707825127659933\n",
            "Variance: 2.9166666666666665\n",
            "Argmax: 4\n",
            "Argmin: 0\n",
            "Sort: [[1 2 3]\n",
            " [4 5 6]]\n"
          ]
        }
      ],
      "source": [
        "arr1 = np.array([[1, 3, 2], [4, 6, 5]]) # Shape: (2, 3)\n",
        "total_sum = np.sum(arr1)\n",
        "mean = np.mean(arr1)\n",
        "max_num = np.max(arr1)\n",
        "min_num = np.min(arr1)\n",
        "std = np.std(arr1)\n",
        "var = np.var(arr1)\n",
        "argmax = np.argmax(arr1)\n",
        "argmin = np.argmin(arr1)\n",
        "sort = np.sort(arr1)\n",
        "\n",
        "print(f\"Total: {total_sum}\")\n",
        "print(f\"Mean: {mean}\")\n",
        "print(f\"Max: {max_num}\")\n",
        "print(f\"Min: {min_num}\")\n",
        "print(f\"Standard Deviation: {std}\")\n",
        "print(f\"Variance: {var}\")\n",
        "print(f\"Argmax: {argmax}\")\n",
        "print(f\"Argmin: {argmin}\")\n",
        "print(f\"Sort: {sort}\")"
      ]
    },
    {
      "cell_type": "markdown",
      "metadata": {
        "id": "PsYMmJeCeA59"
      },
      "source": [
        "All these operations get their answers by operating inside the array. `np.sum()` adds up all the numbers within the array, `np.mean()` averages all the numbers within the array, `np.max()` finds the largest number within the array, `np.min()` finds the smallest number within the array, `np.std()` finds the standard deviation of the numbers within the array, `np.var()` finds the variance of the numbers within the array, `np.argmax()` finds the index of the largest number within the array, `np.argmin()` finds the index of the smallest number within the array, and `np.sort()` sorts the numbers within the array.\n",
        "\n",
        "However, **what if we only wanted to get the sum of only the columns?** How would we do this? This is where the `axis` parameter comes into play."
      ]
    },
    {
      "cell_type": "markdown",
      "metadata": {
        "id": "r71xew8ZeA59"
      },
      "source": [
        "#### The `axis` parameter"
      ]
    },
    {
      "cell_type": "markdown",
      "metadata": {
        "id": "2moKqUJoeA59"
      },
      "source": [
        "For each of the methods mentioned above, there is an additional parameter that we can provide called `axis`. The `axis` parameter allows us to specify which axis we want to perform the operation on. By default, the `axis` parameter is set to `None`. This means that the operation will be performed on the entire array. However, we can provide a number that represents a dimension along which we want to perform the operation. Let's see how this works!"
      ]
    },
    {
      "cell_type": "code",
      "execution_count": 79,
      "metadata": {
        "id": "PZMLDkdeeA59",
        "outputId": "81967ce1-8e26-4a79-842c-f395c460df0e",
        "colab": {
          "base_uri": "https://localhost:8080/"
        }
      },
      "outputs": [
        {
          "output_type": "stream",
          "name": "stdout",
          "text": [
            "Total along Axis 0: [5 9 7]\n",
            "Mean along Axis 0: [2.5 4.5 3.5]\n",
            "Max along Axis 0: [4 6 5]\n",
            "Min along Axis 0: [1 3 2]\n",
            "Standard Deviation along Axis 0: [1.5 1.5 1.5]\n",
            "Variance along Axis 0: [2.25 2.25 2.25]\n",
            "Argmax along Axis 0: [1 1 1]\n",
            "Argmin along Axis 0: [0 0 0]\n",
            "Sort along Axis 0: [[1 3 2]\n",
            " [4 6 5]]\n"
          ]
        }
      ],
      "source": [
        "arr1 = np.array([[1, 3, 2], [4, 6, 5]]) # Shape: (2, 3)\n",
        "total_sum = np.sum(arr1, axis=0)\n",
        "mean = np.mean(arr1, axis=0)\n",
        "max_num = np.max(arr1, axis=0)\n",
        "min_num = np.min(arr1, axis=0)\n",
        "std = np.std(arr1, axis=0)\n",
        "var = np.var(arr1, axis=0)\n",
        "argmax = np.argmax(arr1, axis=0)\n",
        "argmin = np.argmin(arr1, axis=0)\n",
        "sort = np.sort(arr1, axis=0)\n",
        "\n",
        "print(f\"Total along Axis 0: {total_sum}\")\n",
        "print(f\"Mean along Axis 0: {mean}\")\n",
        "print(f\"Max along Axis 0: {max_num}\")\n",
        "print(f\"Min along Axis 0: {min_num}\")\n",
        "print(f\"Standard Deviation along Axis 0: {std}\")\n",
        "print(f\"Variance along Axis 0: {var}\")\n",
        "print(f\"Argmax along Axis 0: {argmax}\")\n",
        "print(f\"Argmin along Axis 0: {argmin}\")\n",
        "print(f\"Sort along Axis 0: {sort}\")"
      ]
    },
    {
      "cell_type": "markdown",
      "metadata": {
        "id": "IDrVxM3MeA5-"
      },
      "source": [
        "We see that we get a different result when we set `axis=0`. For the operations like `sum`, `mean`, etc., we see that instead of getting a single number, we get an 3 x 1 array. This is because `axis=0` performs the operations along the \"0th dimension\". Remember that NumPy organizes the shape of the array as (# rows, # columns, # channels). The 0th index of this tuple is the number of rows. So, when we set `axis=0`, we are performing the operation along the rows.\n",
        "\n",
        "For sorts, we don't change the shape of the array, but the sorting occurs along the rows.\n",
        "\n",
        "<p align=\"center\">\n",
        "  <img src=\"https://cdn-coiao.nitrocdn.com/CYHudqJZsSxQpAPzLkHFOkuzFKDpEHGF/assets/static/optimized/rev-85bf93c/wp-content/uploads/2018/12/numpy-axis0_updated-v2.png\" />\n",
        "</p>"
      ]
    },
    {
      "cell_type": "markdown",
      "metadata": {
        "id": "XTLzvVgDeA5-"
      },
      "source": [
        "Can you guess what happens when we set `axis=1`?"
      ]
    },
    {
      "cell_type": "code",
      "execution_count": 53,
      "metadata": {
        "id": "tglMvcFVeA5-",
        "outputId": "3f56050f-c25a-435d-80b4-b094e38d7eea",
        "colab": {
          "base_uri": "https://localhost:8080/"
        }
      },
      "outputs": [
        {
          "output_type": "stream",
          "name": "stdout",
          "text": [
            "Total along Axis 0: [ 6 15]\n",
            "Mean along Axis 0: [2. 5.]\n",
            "Max along Axis 0: [3 6]\n",
            "Min along Axis 0: [1 4]\n",
            "Standard Deviation along Axis 0: [0.81649658 0.81649658]\n",
            "Variance along Axis 0: [0.66666667 0.66666667]\n",
            "Argmax along Axis 0: [1 1]\n",
            "Argmin along Axis 0: [0 0]\n",
            "Sort along Axis 0: [[1 2 3]\n",
            " [4 5 6]]\n"
          ]
        }
      ],
      "source": [
        "arr1 = np.array([[1, 3, 2], [4, 6, 5]]) # Shape: (2, 3)\n",
        "total_sum = np.sum(arr1, axis=1)\n",
        "mean = np.mean(arr1, axis=1)\n",
        "max_num = np.max(arr1, axis=1)\n",
        "min_num = np.min(arr1, axis=1)\n",
        "std = np.std(arr1, axis=1)\n",
        "var = np.var(arr1, axis=1)\n",
        "argmax = np.argmax(arr1, axis=1)\n",
        "argmin = np.argmin(arr1, axis=1)\n",
        "sort = np.sort(arr1, axis=1)\n",
        "\n",
        "print(f\"Total along Axis 0: {total_sum}\")\n",
        "print(f\"Mean along Axis 0: {mean}\")\n",
        "print(f\"Max along Axis 0: {max_num}\")\n",
        "print(f\"Min along Axis 0: {min_num}\")\n",
        "print(f\"Standard Deviation along Axis 0: {std}\")\n",
        "print(f\"Variance along Axis 0: {var}\")\n",
        "print(f\"Argmax along Axis 0: {argmax}\")\n",
        "print(f\"Argmin along Axis 0: {argmin}\")\n",
        "print(f\"Sort along Axis 0: {sort}\")"
      ]
    },
    {
      "cell_type": "markdown",
      "metadata": {
        "id": "ss51HfMweA5-"
      },
      "source": [
        "For the operations like `sum`, `mean`, etc., we see that instead of getting a single number, we get an 2 x 1 array. This is because `axis=1` performs the operations along the \"1st dimension\". Remember that NumPy organizes the shape of the array as (# rows, # columns, # channels). The 1st index of this tuple is the number of columns. So, when we set `axis=1`, we are performing the operation along the columns.\n",
        "\n",
        "For sorts, we don't change the shape of the array, but the sorting occurs along the columns.\n",
        "\n",
        "<p align=\"center\">\n",
        "  <img src=\"https://cdn-coiao.nitrocdn.com/CYHudqJZsSxQpAPzLkHFOkuzFKDpEHGF/assets/static/optimized/rev-85bf93c/wp-content/uploads/2018/12/numpy-arrays-have-axes_updated_v2.png\" />\n",
        "</p>"
      ]
    },
    {
      "cell_type": "markdown",
      "metadata": {
        "id": "ln0j5TZ3eA5-"
      },
      "source": [
        "What about `axis=2`? This would perform the operation along the channels (for 3D arrays)"
      ]
    },
    {
      "cell_type": "markdown",
      "metadata": {
        "id": "L8V2j2zEeA5-"
      },
      "source": [
        "Similar to `.reshape` where we can use -1 to make NumPy figure out the shape for us, we can also use -1 for the `axis` parameter. Numpy will automatically get the largest dimension possible and perform the operation on that dimension. (EX: if we had a 3D array, using `axis=-1` would be the same as using `axis=1`)"
      ]
    },
    {
      "cell_type": "code",
      "execution_count": 82,
      "metadata": {
        "id": "NAkYemeWeA5_",
        "outputId": "32e8d20c-2e7b-41a7-c0d6-1037b5152166",
        "colab": {
          "base_uri": "https://localhost:8080/"
        }
      },
      "outputs": [
        {
          "output_type": "stream",
          "name": "stdout",
          "text": [
            "Total along Axis 0: [ 6 15]\n",
            "Mean along Axis 0: [2. 5.]\n",
            "Max along Axis 0: [3 6]\n",
            "Min along Axis 0: [1 4]\n",
            "Standard Deviation along Axis 0: [0.81649658 0.81649658]\n",
            "Variance along Axis 0: [0.66666667 0.66666667]\n",
            "Argmax along Axis 0: [1 1]\n",
            "Argmin along Axis 0: [0 0]\n",
            "Sort along Axis 0: [[1 2 3]\n",
            " [4 5 6]]\n"
          ]
        }
      ],
      "source": [
        "arr1 = np.array([[1, 3, 2], [4, 6, 5]]) # Shape: (2, 3)\n",
        "total_sum = np.sum(arr1, axis=-1)\n",
        "mean = np.mean(arr1, axis=-1)\n",
        "max_num = np.max(arr1, axis=-1)\n",
        "min_num = np.min(arr1, axis=-1)\n",
        "std = np.std(arr1, axis=-1)\n",
        "var = np.var(arr1, axis=-1)\n",
        "argmax = np.argmax(arr1, axis=-1)\n",
        "argmin = np.argmin(arr1, axis=-1)\n",
        "sort = np.sort(arr1, axis=-1)\n",
        "\n",
        "print(f\"Total along Axis 0: {total_sum}\")\n",
        "print(f\"Mean along Axis 0: {mean}\")\n",
        "print(f\"Max along Axis 0: {max_num}\")\n",
        "print(f\"Min along Axis 0: {min_num}\")\n",
        "print(f\"Standard Deviation along Axis 0: {std}\")\n",
        "print(f\"Variance along Axis 0: {var}\")\n",
        "print(f\"Argmax along Axis 0: {argmax}\")\n",
        "print(f\"Argmin along Axis 0: {argmin}\")\n",
        "print(f\"Sort along Axis 0: {sort}\")"
      ]
    },
    {
      "cell_type": "markdown",
      "metadata": {
        "id": "AbyouQVNeA5_"
      },
      "source": [
        "This returns the same result as using `axis=1`"
      ]
    },
    {
      "cell_type": "markdown",
      "metadata": {
        "id": "FDepf3XWeA5_"
      },
      "source": [
        "**💡 QUIZ YOURSELF 💡** <br>\n",
        "What is the shape of `arr2`? <br>\n",
        "```python\n",
        "import numpy as np\n",
        "arr1 = np.random.rand(7, 1, 5) # Create a (7, 1, 5) 3D array of random numbers\n",
        "arr2 = np.sum(arr1, axis=-1)\n",
        "```"
      ]
    },
    {
      "cell_type": "markdown",
      "metadata": {
        "id": "WBw6BYi6eA5_"
      },
      "source": [
        "#### Logical Masking"
      ]
    },
    {
      "cell_type": "markdown",
      "metadata": {
        "id": "B_xctYlVeA5_"
      },
      "source": [
        "For those who have taken the CS 1371 (MATLAB) class at Georgia Tech, this is a concept that should be familiar with you (especially if you remember Kantwon putting the pie to his face 😂). Logical Masking is a really important concept about how we can filter arrays without using explicit loops. We do this by using an array in a boolean context. For example, we can do the following with NumPy arrays:\n",
        "\n",
        "```python\n",
        "arr1 = np.array([1, 2, 3, 4, 5, 6, 7, 8, 9, 10])\n",
        "arr1 > 5 # Returns a boolean array\n",
        "```\n",
        "\n",
        "The result of the above operation is a resulting NumPy array that contains Trues and Falses about whether the number at that specific position is greater than 5."
      ]
    },
    {
      "cell_type": "code",
      "execution_count": 55,
      "metadata": {
        "id": "q61edekbeA5_",
        "outputId": "ff515bd8-9006-48da-a922-86bb0a4fcc9a",
        "colab": {
          "base_uri": "https://localhost:8080/"
        }
      },
      "outputs": [
        {
          "output_type": "execute_result",
          "data": {
            "text/plain": [
              "array([False, False, False, False, False,  True,  True,  True,  True,\n",
              "        True])"
            ]
          },
          "metadata": {},
          "execution_count": 55
        }
      ],
      "source": [
        "arr1 = np.array([1, 2, 3, 4, 5, 6, 7, 8, 9, 10])\n",
        "arr1 > 5"
      ]
    },
    {
      "cell_type": "markdown",
      "metadata": {
        "id": "W_4ZL0cpeA5_"
      },
      "source": [
        "This \"boolean array\" is also know as a **mask** or **boolean mask** since we can use this to filter out components of the original array using the following syntax:"
      ]
    },
    {
      "cell_type": "code",
      "execution_count": 56,
      "metadata": {
        "id": "ifFjr5TseA5_",
        "outputId": "a1a571b8-46e4-4948-cefa-b13e4b0612a3",
        "colab": {
          "base_uri": "https://localhost:8080/"
        }
      },
      "outputs": [
        {
          "output_type": "execute_result",
          "data": {
            "text/plain": [
              "array([ 6,  7,  8,  9, 10])"
            ]
          },
          "metadata": {},
          "execution_count": 56
        }
      ],
      "source": [
        "arr1 = np.array([1, 2, 3, 4, 5, 6, 7, 8, 9, 10])\n",
        "arr1[arr1 > 5]"
      ]
    },
    {
      "cell_type": "code",
      "execution_count": 57,
      "metadata": {
        "id": "AwpF8LUSeA6A",
        "outputId": "68baaff8-1d20-4719-bc92-3d53165b39dd",
        "colab": {
          "base_uri": "https://localhost:8080/"
        }
      },
      "outputs": [
        {
          "output_type": "execute_result",
          "data": {
            "text/plain": [
              "array([[False, False, False, False, False],\n",
              "       [ True,  True,  True,  True,  True]])"
            ]
          },
          "metadata": {},
          "execution_count": 57
        }
      ],
      "source": [
        "arr1 = np.array([1, 2, 3, 4, 5, 6, 7, 8, 9, 10]).reshape(2, 5) # Shape: (2, 5)\n",
        "arr1 > 5"
      ]
    },
    {
      "cell_type": "markdown",
      "metadata": {
        "id": "jMJGlTTFeA6A"
      },
      "source": [
        "We can also combine multiple conditions using the bitwise & (and) and | (or) operators. We need to put parenthesis around each of these masks to avoid cryptic errors and to make sure that result is correct."
      ]
    },
    {
      "cell_type": "code",
      "execution_count": 58,
      "metadata": {
        "id": "NWYchxvleA6A",
        "outputId": "b2736969-d37c-4bca-d939-bde72975b67e",
        "colab": {
          "base_uri": "https://localhost:8080/"
        }
      },
      "outputs": [
        {
          "output_type": "execute_result",
          "data": {
            "text/plain": [
              "array([ 6,  8, 10])"
            ]
          },
          "metadata": {},
          "execution_count": 58
        }
      ],
      "source": [
        "arr1 = np.array([1, 2, 3, 4, 5, 6, 7, 8, 9, 10])\n",
        "arr1[(arr1 > 5) & (arr1 % 2 == 0)] # Get all even numbers greater than 5"
      ]
    },
    {
      "cell_type": "markdown",
      "metadata": {
        "id": "_N4UtTxfeA6A"
      },
      "source": [
        "One function that also works with NumPy arrays is the `np.where()` function. This function takes in a condition and returns the indices where the condition is true instead of returning a boolean array. This is useful when we want to get the indices of the elements that satisfy a certain condition. `np.where()` returns a tuple, and the array of indices is the first element of the tuple."
      ]
    },
    {
      "cell_type": "code",
      "execution_count": 59,
      "metadata": {
        "id": "K_OppwCdeA6A",
        "outputId": "19caf803-ec3e-4c7c-b49e-ee3e365d0d78",
        "colab": {
          "base_uri": "https://localhost:8080/"
        }
      },
      "outputs": [
        {
          "output_type": "execute_result",
          "data": {
            "text/plain": [
              "array([5, 6, 7, 8, 9])"
            ]
          },
          "metadata": {},
          "execution_count": 59
        }
      ],
      "source": [
        "arr1 = np.array([1, 2, 3, 4, 5, 6, 7, 8, 9, 10])\n",
        "np.where(arr1 > 5)[0]"
      ]
    },
    {
      "cell_type": "markdown",
      "metadata": {
        "id": "pxFdROYWeA6A"
      },
      "source": [
        "We can also use `np.where()` to do replacements within the array!"
      ]
    },
    {
      "cell_type": "code",
      "execution_count": 85,
      "metadata": {
        "id": "K0FswWDweA6A",
        "outputId": "06244e17-54f4-4a4b-9da8-aac0d8359ab4",
        "colab": {
          "base_uri": "https://localhost:8080/"
        }
      },
      "outputs": [
        {
          "output_type": "stream",
          "name": "stdout",
          "text": [
            "[[0 1 2]\n",
            " [1 2 3]\n",
            " [2 3 4]]\n"
          ]
        }
      ],
      "source": [
        "arr1 = np.array([1, 2, 3, 4, 5, 6, 7, 8, 9, 10])\n",
        "np.where(arr1 > 5, 1, 0) # Get all numbers greater than 5 and replace them with 1, otherwise replace with 0"
      ]
    },
    {
      "cell_type": "markdown",
      "metadata": {
        "id": "-_oKkBhAeA6B"
      },
      "source": [
        "**💡 QUIZ YOURSELF 💡** <br>\n",
        "What would be the output of this operation? <br>\n",
        "```python\n",
        "import numpy as np\n",
        "arr1 = np.zeros((5, 5))\n",
        "arr1[np.where(arr1 == 0)] = 1\n",
        "print(arr1)\n",
        "```"
      ]
    },
    {
      "cell_type": "markdown",
      "metadata": {
        "id": "QMEyktkweA6B"
      },
      "source": [
        "✨ **BROADCASTING CHALLENGE** ✨ <br>\n",
        "What would be the output of this piece of code? <br>\n",
        "```python\n",
        "import numpy as np\n",
        "arr1 = np.arange(3).reshape(3, 1) + np.arange(3)\n",
        "print(arr1)\n",
        "```"
      ]
    },
    {
      "cell_type": "markdown",
      "metadata": {
        "id": "LQkLLpXFeA6B"
      },
      "source": [
        "## Treating NumPy Arrays as Matrices"
      ]
    },
    {
      "cell_type": "markdown",
      "metadata": {
        "id": "BHSQ2HbAeA6B"
      },
      "source": [
        "Many of these arrays can also be thought of as matrices, and as a result, we can perform matrix operations on them. With a single array, we can take its transpose, inverse, and determinant. To do many of these operations, we need to use the `np.linalg` module. This module contains many of the linear algebra functions that we would need. Let's see how we can use these functions."
      ]
    },
    {
      "cell_type": "code",
      "execution_count": 61,
      "metadata": {
        "id": "Ve1w69K_eA6B",
        "outputId": "1dcb2399-676a-42de-b7e6-973dac1e392e",
        "colab": {
          "base_uri": "https://localhost:8080/"
        }
      },
      "outputs": [
        {
          "output_type": "execute_result",
          "data": {
            "text/plain": [
              "array([[1, 2, 3],\n",
              "       [4, 5, 6],\n",
              "       [7, 8, 9]])"
            ]
          },
          "metadata": {},
          "execution_count": 61
        }
      ],
      "source": [
        "arr1 = np.array([1, 2, 3, 4, 5, 6, 7, 8, 9]).reshape(3, 3) # Shape: (3, 3)\n",
        "arr1 # See the array"
      ]
    },
    {
      "cell_type": "markdown",
      "metadata": {
        "id": "ZUtMOlb3eA6B"
      },
      "source": [
        "To take the transpose, we can either use the `transpose()` method or the `T` attribute."
      ]
    },
    {
      "cell_type": "code",
      "execution_count": 62,
      "metadata": {
        "id": "lYdef1XveA6B",
        "outputId": "6e216736-f830-45e0-b56e-eea4926c259e",
        "colab": {
          "base_uri": "https://localhost:8080/"
        }
      },
      "outputs": [
        {
          "output_type": "execute_result",
          "data": {
            "text/plain": [
              "array([[1, 4, 7],\n",
              "       [2, 5, 8],\n",
              "       [3, 6, 9]])"
            ]
          },
          "metadata": {},
          "execution_count": 62
        }
      ],
      "source": [
        "arr1.T"
      ]
    },
    {
      "cell_type": "code",
      "execution_count": 63,
      "metadata": {
        "id": "xVh4G-oceA6B",
        "outputId": "6fe5cfed-70ca-4efc-d5dd-88e8df69c5fd",
        "colab": {
          "base_uri": "https://localhost:8080/"
        }
      },
      "outputs": [
        {
          "output_type": "execute_result",
          "data": {
            "text/plain": [
              "array([[1, 4, 7],\n",
              "       [2, 5, 8],\n",
              "       [3, 6, 9]])"
            ]
          },
          "metadata": {},
          "execution_count": 63
        }
      ],
      "source": [
        "arr1.transpose()"
      ]
    },
    {
      "cell_type": "markdown",
      "metadata": {
        "id": "XcQImFr0eA6B"
      },
      "source": [
        "To take the determinant of a matrix, we can use the `det()` function."
      ]
    },
    {
      "cell_type": "code",
      "execution_count": 86,
      "metadata": {
        "id": "3rouu8OEeA6C",
        "outputId": "d7fdfac4-89ad-4632-8be6-9428bca1c25e",
        "colab": {
          "base_uri": "https://localhost:8080/"
        }
      },
      "outputs": [
        {
          "output_type": "execute_result",
          "data": {
            "text/plain": [
              "np.float64(0.0)"
            ]
          },
          "metadata": {},
          "execution_count": 86
        }
      ],
      "source": [
        "det = np.linalg.det(arr1)\n",
        "det"
      ]
    },
    {
      "cell_type": "markdown",
      "metadata": {
        "id": "gVzHNA4LeA6C"
      },
      "source": [
        "To take the inverse of an array, we can use the `inv` or `pinv` function. The `pinv` function is used when the array is not invertible. The `pinv` function returns the pseudo-inverse of the array (we will talk about this in the second week of class)."
      ]
    },
    {
      "cell_type": "code",
      "execution_count": 87,
      "metadata": {
        "id": "utndIqpZeA6C",
        "outputId": "729b3777-8714-459c-dc8c-101fc83d5268",
        "colab": {
          "base_uri": "https://localhost:8080/",
          "height": 287
        },
        "collapsed": true
      },
      "outputs": [
        {
          "output_type": "error",
          "ename": "LinAlgError",
          "evalue": "Singular matrix",
          "traceback": [
            "\u001b[0;31m---------------------------------------------------------------------------\u001b[0m",
            "\u001b[0;31mLinAlgError\u001b[0m                               Traceback (most recent call last)",
            "\u001b[0;32m/tmp/ipython-input-155072556.py\u001b[0m in \u001b[0;36m<cell line: 0>\u001b[0;34m()\u001b[0m\n\u001b[0;32m----> 1\u001b[0;31m \u001b[0mnp\u001b[0m\u001b[0;34m.\u001b[0m\u001b[0mlinalg\u001b[0m\u001b[0;34m.\u001b[0m\u001b[0minv\u001b[0m\u001b[0;34m(\u001b[0m\u001b[0marr1\u001b[0m\u001b[0;34m)\u001b[0m\u001b[0;34m\u001b[0m\u001b[0;34m\u001b[0m\u001b[0m\n\u001b[0m",
            "\u001b[0;32m/usr/local/lib/python3.12/dist-packages/numpy/linalg/_linalg.py\u001b[0m in \u001b[0;36minv\u001b[0;34m(a)\u001b[0m\n\u001b[1;32m    606\u001b[0m     with errstate(call=_raise_linalgerror_singular, invalid='call',\n\u001b[1;32m    607\u001b[0m                   over='ignore', divide='ignore', under='ignore'):\n\u001b[0;32m--> 608\u001b[0;31m         \u001b[0mainv\u001b[0m \u001b[0;34m=\u001b[0m \u001b[0m_umath_linalg\u001b[0m\u001b[0;34m.\u001b[0m\u001b[0minv\u001b[0m\u001b[0;34m(\u001b[0m\u001b[0ma\u001b[0m\u001b[0;34m,\u001b[0m \u001b[0msignature\u001b[0m\u001b[0;34m=\u001b[0m\u001b[0msignature\u001b[0m\u001b[0;34m)\u001b[0m\u001b[0;34m\u001b[0m\u001b[0;34m\u001b[0m\u001b[0m\n\u001b[0m\u001b[1;32m    609\u001b[0m     \u001b[0;32mreturn\u001b[0m \u001b[0mwrap\u001b[0m\u001b[0;34m(\u001b[0m\u001b[0mainv\u001b[0m\u001b[0;34m.\u001b[0m\u001b[0mastype\u001b[0m\u001b[0;34m(\u001b[0m\u001b[0mresult_t\u001b[0m\u001b[0;34m,\u001b[0m \u001b[0mcopy\u001b[0m\u001b[0;34m=\u001b[0m\u001b[0;32mFalse\u001b[0m\u001b[0;34m)\u001b[0m\u001b[0;34m)\u001b[0m\u001b[0;34m\u001b[0m\u001b[0;34m\u001b[0m\u001b[0m\n\u001b[1;32m    610\u001b[0m \u001b[0;34m\u001b[0m\u001b[0m\n",
            "\u001b[0;32m/usr/local/lib/python3.12/dist-packages/numpy/linalg/_linalg.py\u001b[0m in \u001b[0;36m_raise_linalgerror_singular\u001b[0;34m(err, flag)\u001b[0m\n\u001b[1;32m    102\u001b[0m \u001b[0;34m\u001b[0m\u001b[0m\n\u001b[1;32m    103\u001b[0m \u001b[0;32mdef\u001b[0m \u001b[0m_raise_linalgerror_singular\u001b[0m\u001b[0;34m(\u001b[0m\u001b[0merr\u001b[0m\u001b[0;34m,\u001b[0m \u001b[0mflag\u001b[0m\u001b[0;34m)\u001b[0m\u001b[0;34m:\u001b[0m\u001b[0;34m\u001b[0m\u001b[0;34m\u001b[0m\u001b[0m\n\u001b[0;32m--> 104\u001b[0;31m     \u001b[0;32mraise\u001b[0m \u001b[0mLinAlgError\u001b[0m\u001b[0;34m(\u001b[0m\u001b[0;34m\"Singular matrix\"\u001b[0m\u001b[0;34m)\u001b[0m\u001b[0;34m\u001b[0m\u001b[0;34m\u001b[0m\u001b[0m\n\u001b[0m\u001b[1;32m    105\u001b[0m \u001b[0;34m\u001b[0m\u001b[0m\n\u001b[1;32m    106\u001b[0m \u001b[0;32mdef\u001b[0m \u001b[0m_raise_linalgerror_nonposdef\u001b[0m\u001b[0;34m(\u001b[0m\u001b[0merr\u001b[0m\u001b[0;34m,\u001b[0m \u001b[0mflag\u001b[0m\u001b[0;34m)\u001b[0m\u001b[0;34m:\u001b[0m\u001b[0;34m\u001b[0m\u001b[0;34m\u001b[0m\u001b[0m\n",
            "\u001b[0;31mLinAlgError\u001b[0m: Singular matrix"
          ]
        }
      ],
      "source": [
        "np.linalg.inv(arr1)"
      ]
    },
    {
      "cell_type": "markdown",
      "metadata": {
        "id": "8rICf80beA6C"
      },
      "source": [
        "### Matrix Multiplication"
      ]
    },
    {
      "cell_type": "markdown",
      "metadata": {
        "id": "YUnmsTUeeA6C"
      },
      "source": [
        "Almost every single ML algorithm at one point or another will use Matrix Multiplication. Fortunately NumPy has us covered with multiple different ways to multiple two matrices. The three main ways of multiplying matrices are:\n",
        "1. `np.matmul()`\n",
        "2. `np.dot()`\n",
        "3. `@`"
      ]
    },
    {
      "cell_type": "code",
      "execution_count": null,
      "metadata": {
        "id": "6GKLvLBheA6C"
      },
      "outputs": [],
      "source": [
        "arr1 = np.array([1, 2, 3, 4, 5, 6, 7, 8, 9]).reshape(3, 3) # Shape: (3, 3)\n",
        "arr2 = np.array([1, 2, 3]).reshape(3, 1) # Shape: (3, 1)\n",
        "print(f\"Using matmul: {np.matmul(arr1, arr2)}\")\n",
        "print(f\"Using dot: {np.dot(arr1, arr2)}\")\n",
        "print(f\"Using @: {arr1 @ arr2}\")"
      ]
    },
    {
      "cell_type": "markdown",
      "metadata": {
        "id": "dGikiKObeA6C"
      },
      "source": [
        "We see we get the same answer using each of the methods. Why does NumPy have so many ways of doing the same thing? Well, it turns out that each of these methods have different rules for how they handle the dimensions of the matrices. For example, `np.matmul()` and `@` will only work if the dimensions of the matrices are compatible. `np.dot()` will work for any dimensions of the matrices. In addition, `np.dot()` will perform element-wise multiplication if the matrices are 1D arrays. This is why it is important to know the differences between these methods. Yoou can see the all the rules for `np.dot()` [here](https://numpy.org/doc/stable/reference/generated/numpy.dot.html).\n",
        "\n",
        "Because `np.dot()` can be confusing, we recommend students to use `np.matmul()` or `@` for matrix multiplication. This will make sure that you don't accidentally perform element-wise multiplication and end up spending hours debugging your code.\n",
        "\n",
        "We also especially recommend using `@` instead of `np.matmul()` since it is much more readable. `@` under the hood is just calling `np.matmul()` so there is no performance difference between the two."
      ]
    },
    {
      "cell_type": "markdown",
      "metadata": {
        "id": "4gx7J7xveA6C"
      },
      "source": [
        "## Combining NumPy Arrays"
      ]
    },
    {
      "cell_type": "markdown",
      "metadata": {
        "id": "mwIaNaY7eA6C"
      },
      "source": [
        "Sometimes, we have multiple NumPy arrays that we want to combine together to create a bigger NumPy array. With NumPy, there are several ways to make this happen. The main way to do this `np.concatenate` relies on the `axis` parameter, so be sure to look a couple sections before to see the detailed breakdown of the `axis` parameter! Let's see how we can use `np.concatenate`!"
      ]
    },
    {
      "cell_type": "code",
      "execution_count": null,
      "metadata": {
        "id": "Z21l9-MJeA6C"
      },
      "outputs": [],
      "source": [
        "arr1 = np.array([1, 2, 3, 4, 5, 6, 7, 8, 9]).reshape(3, 3) # Shape: (3, 3)\n",
        "arr1 # See the array"
      ]
    },
    {
      "cell_type": "code",
      "execution_count": null,
      "metadata": {
        "id": "Z1uKQdmIeA6D"
      },
      "outputs": [],
      "source": [
        "arr2 = np.array([10, 11, 12, 13, 14, 15, 16, 17, 18]).reshape(3, 3) # Shape: (3, 3)\n",
        "arr2 # See the array"
      ]
    },
    {
      "cell_type": "code",
      "execution_count": null,
      "metadata": {
        "id": "HMnXlab7eA6D"
      },
      "outputs": [],
      "source": [
        "arr3 = np.concatenate((arr1, arr2), axis=0) # Concatenate along axis 0\n",
        "arr3"
      ]
    },
    {
      "cell_type": "markdown",
      "metadata": {
        "id": "QaXQf026eA6D"
      },
      "source": [
        "`np.concatenate` works the same way with the axis parameter as some of the other NumPy functions we saw earlier that use `axis`. Here, we add the second array to the rows of the original first array. **However, one important thing to note is how we had to pass in a tuple of NumPy arrays!** Without this, we get cryptic errors from NumPy. Another NumPy function that does the same thing is `np.vstack()`."
      ]
    },
    {
      "cell_type": "code",
      "execution_count": null,
      "metadata": {
        "id": "drBAu30seA6D"
      },
      "outputs": [],
      "source": [
        "np.vstack((arr1, arr2)) # Concatenate along axis 0"
      ]
    },
    {
      "cell_type": "code",
      "execution_count": null,
      "metadata": {
        "id": "nIDBil7EeA6D"
      },
      "outputs": [],
      "source": [
        "arr4 = np.concatenate((arr1, arr2), axis=1) # Concatenate along axis 1\n",
        "arr4"
      ]
    },
    {
      "cell_type": "markdown",
      "metadata": {
        "id": "tXEBnlL4eA6D"
      },
      "source": [
        "Here, with `axis=1`, we add along the columns of the original array. Another NumPy function that does the same thing is `np.hstack()`"
      ]
    },
    {
      "cell_type": "code",
      "execution_count": null,
      "metadata": {
        "id": "o3AOdp4yeA6D"
      },
      "outputs": [],
      "source": [
        "np.hstack((arr1, arr2)) # Concatenate along axis 1"
      ]
    },
    {
      "cell_type": "code",
      "execution_count": null,
      "metadata": {
        "id": "mmogDMiqeA6D"
      },
      "outputs": [],
      "source": [
        "arr5 = np.concatenate((arr1, arr2), axis=-1) # Concatenate along axis -1\n",
        "arr5"
      ]
    },
    {
      "cell_type": "markdown",
      "metadata": {
        "id": "DwyhYoPZeA6D"
      },
      "source": [
        "## References\n",
        "1. [Official NumPy Broadcasting Tutorial](https://numpy.org/doc/stable/user/basics.broadcasting.html)\n",
        "2. [Great Python and NumPy Tutorial by Stanford](https://cs231n.github.io/python-numpy-tutorial/)\n",
        "3. [NumPy Axis Tutorial](https://www.sharpsightlabs.com/blog/numpy-axes-explained/)\n",
        "4. [Axis 3D Array](https://python.pages.doc.ic.ac.uk/2021/lessons/numpy/02-ndarray/02-creation.html)"
      ]
    }
  ],
  "metadata": {
    "kernelspec": {
      "display_name": "Python 3",
      "language": "python",
      "name": "python3"
    },
    "language_info": {
      "codemirror_mode": {
        "name": "ipython",
        "version": 3
      },
      "file_extension": ".py",
      "mimetype": "text/x-python",
      "name": "python",
      "nbconvert_exporter": "python",
      "pygments_lexer": "ipython3",
      "version": "3.7.6"
    },
    "vscode": {
      "interpreter": {
        "hash": "5c2b135a763913e0791384e2783501d9460160f4ab00155d5d8c2da598cb24f2"
      }
    },
    "colab": {
      "provenance": []
    }
  },
  "nbformat": 4,
  "nbformat_minor": 0
}